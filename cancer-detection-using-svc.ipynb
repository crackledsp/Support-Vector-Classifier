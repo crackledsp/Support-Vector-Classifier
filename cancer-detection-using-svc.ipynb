{
 "cells": [
  {
   "cell_type": "code",
   "execution_count": 1,
   "metadata": {
    "_cell_guid": "b1076dfc-b9ad-4769-8c92-a6c4dae69d19",
    "_uuid": "8f2839f25d086af736a60e9eeb907d3b93b6e0e5",
    "execution": {
     "iopub.execute_input": "2020-12-05T11:50:01.002249Z",
     "iopub.status.busy": "2020-12-05T11:50:01.001234Z",
     "iopub.status.idle": "2020-12-05T11:50:02.216837Z",
     "shell.execute_reply": "2020-12-05T11:50:02.217598Z"
    },
    "papermill": {
     "duration": 1.235571,
     "end_time": "2020-12-05T11:50:02.217831",
     "exception": false,
     "start_time": "2020-12-05T11:50:00.982260",
     "status": "completed"
    },
    "tags": []
   },
   "outputs": [
    {
     "name": "stdout",
     "output_type": "stream",
     "text": [
      "/kaggle/input/breast-cancer-prediction-dataset/Breast_cancer_data.csv\n"
     ]
    }
   ],
   "source": [
    "# This Python 3 environment comes with many helpful analytics libraries installed\n",
    "# It is defined by the kaggle/python Docker image: https://github.com/kaggle/docker-python\n",
    "# For example, here's several helpful packages to load\n",
    "\n",
    "import numpy as np # linear algebra\n",
    "import pandas as pd # data processing, CSV file I/O (e.g. pd.read_csv)\n",
    "from sklearn.svm import SVC\n",
    "from sklearn.pipeline import make_pipeline\n",
    "from sklearn.preprocessing import StandardScaler\n",
    "from sklearn.metrics import accuracy_score,confusion_matrix\n",
    "from sklearn.model_selection import train_test_split,GridSearchCV\n",
    "# Input data files are available in the read-only \"../input/\" directory\n",
    "# For example, running this (by clicking run or pressing Shift+Enter) will list all files under the input directory\n",
    "\n",
    "import os\n",
    "for dirname, _, filenames in os.walk('/kaggle/input'):\n",
    "    for filename in filenames:\n",
    "        print(os.path.join(dirname, filename))\n",
    "\n",
    "# You can write up to 20GB to the current directory (/kaggle/working/) that gets preserved as output when you create a version using \"Save & Run All\" \n",
    "# You can also write temporary files to /kaggle/temp/, but they won't be saved outside of the current session"
   ]
  },
  {
   "cell_type": "code",
   "execution_count": 2,
   "metadata": {
    "_cell_guid": "79c7e3d0-c299-4dcb-8224-4455121ee9b0",
    "_uuid": "d629ff2d2480ee46fbb7e2d37f6b5fab8052498a",
    "execution": {
     "iopub.execute_input": "2020-12-05T11:50:02.246155Z",
     "iopub.status.busy": "2020-12-05T11:50:02.245235Z",
     "iopub.status.idle": "2020-12-05T11:50:02.292617Z",
     "shell.execute_reply": "2020-12-05T11:50:02.293265Z"
    },
    "papermill": {
     "duration": 0.064802,
     "end_time": "2020-12-05T11:50:02.293487",
     "exception": false,
     "start_time": "2020-12-05T11:50:02.228685",
     "status": "completed"
    },
    "tags": []
   },
   "outputs": [
    {
     "data": {
      "text/html": [
       "<div>\n",
       "<style scoped>\n",
       "    .dataframe tbody tr th:only-of-type {\n",
       "        vertical-align: middle;\n",
       "    }\n",
       "\n",
       "    .dataframe tbody tr th {\n",
       "        vertical-align: top;\n",
       "    }\n",
       "\n",
       "    .dataframe thead th {\n",
       "        text-align: right;\n",
       "    }\n",
       "</style>\n",
       "<table border=\"1\" class=\"dataframe\">\n",
       "  <thead>\n",
       "    <tr style=\"text-align: right;\">\n",
       "      <th></th>\n",
       "      <th>mean_radius</th>\n",
       "      <th>mean_texture</th>\n",
       "      <th>mean_perimeter</th>\n",
       "      <th>mean_area</th>\n",
       "      <th>mean_smoothness</th>\n",
       "      <th>diagnosis</th>\n",
       "    </tr>\n",
       "  </thead>\n",
       "  <tbody>\n",
       "    <tr>\n",
       "      <th>0</th>\n",
       "      <td>17.99</td>\n",
       "      <td>10.38</td>\n",
       "      <td>122.80</td>\n",
       "      <td>1001.0</td>\n",
       "      <td>0.11840</td>\n",
       "      <td>0</td>\n",
       "    </tr>\n",
       "    <tr>\n",
       "      <th>1</th>\n",
       "      <td>20.57</td>\n",
       "      <td>17.77</td>\n",
       "      <td>132.90</td>\n",
       "      <td>1326.0</td>\n",
       "      <td>0.08474</td>\n",
       "      <td>0</td>\n",
       "    </tr>\n",
       "    <tr>\n",
       "      <th>2</th>\n",
       "      <td>19.69</td>\n",
       "      <td>21.25</td>\n",
       "      <td>130.00</td>\n",
       "      <td>1203.0</td>\n",
       "      <td>0.10960</td>\n",
       "      <td>0</td>\n",
       "    </tr>\n",
       "    <tr>\n",
       "      <th>3</th>\n",
       "      <td>11.42</td>\n",
       "      <td>20.38</td>\n",
       "      <td>77.58</td>\n",
       "      <td>386.1</td>\n",
       "      <td>0.14250</td>\n",
       "      <td>0</td>\n",
       "    </tr>\n",
       "    <tr>\n",
       "      <th>4</th>\n",
       "      <td>20.29</td>\n",
       "      <td>14.34</td>\n",
       "      <td>135.10</td>\n",
       "      <td>1297.0</td>\n",
       "      <td>0.10030</td>\n",
       "      <td>0</td>\n",
       "    </tr>\n",
       "  </tbody>\n",
       "</table>\n",
       "</div>"
      ],
      "text/plain": [
       "   mean_radius  mean_texture  mean_perimeter  mean_area  mean_smoothness  \\\n",
       "0        17.99         10.38          122.80     1001.0          0.11840   \n",
       "1        20.57         17.77          132.90     1326.0          0.08474   \n",
       "2        19.69         21.25          130.00     1203.0          0.10960   \n",
       "3        11.42         20.38           77.58      386.1          0.14250   \n",
       "4        20.29         14.34          135.10     1297.0          0.10030   \n",
       "\n",
       "   diagnosis  \n",
       "0          0  \n",
       "1          0  \n",
       "2          0  \n",
       "3          0  \n",
       "4          0  "
      ]
     },
     "execution_count": 2,
     "metadata": {},
     "output_type": "execute_result"
    }
   ],
   "source": [
    "data=pd.read_csv('/kaggle/input/breast-cancer-prediction-dataset/Breast_cancer_data.csv')\n",
    "data.head()"
   ]
  },
  {
   "cell_type": "code",
   "execution_count": 3,
   "metadata": {
    "execution": {
     "iopub.execute_input": "2020-12-05T11:50:02.332414Z",
     "iopub.status.busy": "2020-12-05T11:50:02.331359Z",
     "iopub.status.idle": "2020-12-05T11:50:02.337404Z",
     "shell.execute_reply": "2020-12-05T11:50:02.336336Z"
    },
    "papermill": {
     "duration": 0.032409,
     "end_time": "2020-12-05T11:50:02.337579",
     "exception": false,
     "start_time": "2020-12-05T11:50:02.305170",
     "status": "completed"
    },
    "tags": []
   },
   "outputs": [
    {
     "data": {
      "text/plain": [
       "1    357\n",
       "0    212\n",
       "Name: diagnosis, dtype: int64"
      ]
     },
     "execution_count": 3,
     "metadata": {},
     "output_type": "execute_result"
    }
   ],
   "source": [
    "data['diagnosis'].value_counts()\n"
   ]
  },
  {
   "cell_type": "code",
   "execution_count": 4,
   "metadata": {
    "execution": {
     "iopub.execute_input": "2020-12-05T11:50:02.372569Z",
     "iopub.status.busy": "2020-12-05T11:50:02.371569Z",
     "iopub.status.idle": "2020-12-05T11:50:02.377443Z",
     "shell.execute_reply": "2020-12-05T11:50:02.376471Z"
    },
    "papermill": {
     "duration": 0.027802,
     "end_time": "2020-12-05T11:50:02.377653",
     "exception": false,
     "start_time": "2020-12-05T11:50:02.349851",
     "status": "completed"
    },
    "tags": []
   },
   "outputs": [
    {
     "data": {
      "text/plain": [
       "((569, 5), (569,))"
      ]
     },
     "execution_count": 4,
     "metadata": {},
     "output_type": "execute_result"
    }
   ],
   "source": [
    "Y=data['diagnosis']\n",
    "X=data.drop('diagnosis',axis=1)\n",
    "X.shape,Y.shape"
   ]
  },
  {
   "cell_type": "code",
   "execution_count": 5,
   "metadata": {
    "execution": {
     "iopub.execute_input": "2020-12-05T11:50:02.425267Z",
     "iopub.status.busy": "2020-12-05T11:50:02.424041Z",
     "iopub.status.idle": "2020-12-05T11:50:02.428259Z",
     "shell.execute_reply": "2020-12-05T11:50:02.427325Z"
    },
    "papermill": {
     "duration": 0.033791,
     "end_time": "2020-12-05T11:50:02.428407",
     "exception": false,
     "start_time": "2020-12-05T11:50:02.394616",
     "status": "completed"
    },
    "tags": []
   },
   "outputs": [],
   "source": [
    "X_train,X_test,y_train,y_test=train_test_split(X,Y,test_size=0.33)"
   ]
  },
  {
   "cell_type": "code",
   "execution_count": 6,
   "metadata": {
    "execution": {
     "iopub.execute_input": "2020-12-05T11:50:02.473771Z",
     "iopub.status.busy": "2020-12-05T11:50:02.472490Z",
     "iopub.status.idle": "2020-12-05T11:50:02.759498Z",
     "shell.execute_reply": "2020-12-05T11:50:02.758694Z"
    },
    "papermill": {
     "duration": 0.317403,
     "end_time": "2020-12-05T11:50:02.759627",
     "exception": false,
     "start_time": "2020-12-05T11:50:02.442224",
     "status": "completed"
    },
    "tags": []
   },
   "outputs": [
    {
     "data": {
      "text/plain": [
       "(0.9092097143064581, {'C': 25})"
      ]
     },
     "execution_count": 6,
     "metadata": {},
     "output_type": "execute_result"
    }
   ],
   "source": [
    "params={'C':[1,5,10,15,20,25,30,40,50,100]}\n",
    "svc=SVC()\n",
    "grid=GridSearchCV(svc,params,cv=3,scoring='f1')\n",
    "grid.fit(X_train,y_train)\n",
    "grid.best_score_,grid.best_params_"
   ]
  },
  {
   "cell_type": "code",
   "execution_count": 7,
   "metadata": {
    "execution": {
     "iopub.execute_input": "2020-12-05T11:50:02.795914Z",
     "iopub.status.busy": "2020-12-05T11:50:02.793048Z",
     "iopub.status.idle": "2020-12-05T11:50:02.810211Z",
     "shell.execute_reply": "2020-12-05T11:50:02.809549Z"
    },
    "papermill": {
     "duration": 0.038929,
     "end_time": "2020-12-05T11:50:02.810363",
     "exception": false,
     "start_time": "2020-12-05T11:50:02.771434",
     "status": "completed"
    },
    "tags": []
   },
   "outputs": [
    {
     "data": {
      "text/plain": [
       "91.48936170212765"
      ]
     },
     "execution_count": 7,
     "metadata": {},
     "output_type": "execute_result"
    }
   ],
   "source": [
    "model_pipeline=make_pipeline(StandardScaler(),SVC(C=100,gamma='auto'))\n",
    "model_pipeline.fit(X_train,y_train)\n",
    "pred=model_pipeline.predict(X_test)\n",
    "accuracy_score(y_test,pred)*100"
   ]
  },
  {
   "cell_type": "code",
   "execution_count": 8,
   "metadata": {
    "execution": {
     "iopub.execute_input": "2020-12-05T11:50:02.843290Z",
     "iopub.status.busy": "2020-12-05T11:50:02.842174Z",
     "iopub.status.idle": "2020-12-05T11:50:02.846359Z",
     "shell.execute_reply": "2020-12-05T11:50:02.845716Z"
    },
    "papermill": {
     "duration": 0.023534,
     "end_time": "2020-12-05T11:50:02.846493",
     "exception": false,
     "start_time": "2020-12-05T11:50:02.822959",
     "status": "completed"
    },
    "tags": []
   },
   "outputs": [
    {
     "data": {
      "text/plain": [
       "array([1])"
      ]
     },
     "execution_count": 8,
     "metadata": {},
     "output_type": "execute_result"
    }
   ],
   "source": [
    "model_pipeline.predict([[14.45,19.56,91,654,0.1]])"
   ]
  },
  {
   "cell_type": "code",
   "execution_count": null,
   "metadata": {
    "papermill": {
     "duration": 0.013428,
     "end_time": "2020-12-05T11:50:02.873118",
     "exception": false,
     "start_time": "2020-12-05T11:50:02.859690",
     "status": "completed"
    },
    "tags": []
   },
   "outputs": [],
   "source": []
  }
 ],
 "metadata": {
  "kernelspec": {
   "display_name": "Python 3",
   "language": "python",
   "name": "python3"
  },
  "language_info": {
   "codemirror_mode": {
    "name": "ipython",
    "version": 3
   },
   "file_extension": ".py",
   "mimetype": "text/x-python",
   "name": "python",
   "nbconvert_exporter": "python",
   "pygments_lexer": "ipython3",
   "version": "3.7.6"
  },
  "papermill": {
   "duration": 7.948595,
   "end_time": "2020-12-05T11:50:02.995646",
   "environment_variables": {},
   "exception": null,
   "input_path": "__notebook__.ipynb",
   "output_path": "__notebook__.ipynb",
   "parameters": {},
   "start_time": "2020-12-05T11:49:55.047051",
   "version": "2.1.0"
  }
 },
 "nbformat": 4,
 "nbformat_minor": 4
}
